{
 "cells": [
  {
   "attachments": {},
   "cell_type": "markdown",
   "metadata": {},
   "source": [
    "## Imports and Config"
   ]
  },
  {
   "cell_type": "code",
   "execution_count": null,
   "metadata": {},
   "outputs": [],
   "source": [
    "import pathlib\n",
    "import pickle\n",
    "from pathlib import Path\n",
    "\n",
    "import numpy as np\n",
    "import pandas as pd\n",
    "import timm\n",
    "from albumentations.pytorch import ToTensorV2\n",
    "from fastai.vision.all import *\n",
    "from sklearn.preprocessing import MinMaxScaler\n",
    "\n",
    "\n",
    "pathlib.WindowsPath = pathlib.PosixPath"
   ]
  },
  {
   "cell_type": "code",
   "execution_count": null,
   "metadata": {},
   "outputs": [],
   "source": [
    "O_TEST_DATASET = Path(\"./data/test/\")\n",
    "R_TEST_DATASET = Path(\"./data/test_256/\")\n",
    "BLEND_MODELS_DIR = Path(\"./models/vitbasefold_vhaugs/\")\n",
    "TTA_PREDICT = False\n",
    "\n",
    "model_names = [path.name for path in list(BLEND_MODELS_DIR.rglob(\"*.pkl\"))]\n",
    "test_files = [str(path) for path in sorted(list(R_TEST_DATASET.iterdir()))]"
   ]
  },
  {
   "cell_type": "code",
   "execution_count": null,
   "metadata": {},
   "outputs": [],
   "source": [
    "# needed for models with albumentations transform\n",
    "class AlbumentationsTransform(DisplayedTransform):\n",
    "    split_idx,order=0,2\n",
    "    def __init__(self, train_aug): store_attr()\n",
    "    \n",
    "    def encodes(self, img: PILImage):\n",
    "        aug_img = self.train_aug(image=np.array(img))['image']\n",
    "        return PILImage.create(aug_img)"
   ]
  },
  {
   "attachments": {},
   "cell_type": "markdown",
   "metadata": {},
   "source": [
    "## Submission"
   ]
  },
  {
   "cell_type": "code",
   "execution_count": null,
   "metadata": {},
   "outputs": [],
   "source": [
    "all_preds = []\n",
    "for model in model_names:\n",
    "    path = BLEND_MODELS_DIR / model\n",
    "    learn = load_learner(path, cpu=False)\n",
    "    test_dl = learn.dls.test_dl(test_files)\n",
    "\n",
    "    if not TTA_PREDICT:\n",
    "        preds, _ = learn.get_preds(dl=test_dl)\n",
    "    else:\n",
    "        preds, _ = learn.tta(dl=test_dl, beta=0.75, n=15)\n",
    "\n",
    "    all_preds.append(MinMaxScaler().fit_transform(preds.numpy()))\n",
    "    \n",
    "all_preds = np.array(all_preds).mean(0)"
   ]
  },
  {
   "cell_type": "code",
   "execution_count": null,
   "metadata": {},
   "outputs": [],
   "source": [
    "subm = pd.DataFrame(\n",
    "    {\n",
    "        \"image_name\": [\n",
    "            str(path.name) for path in sorted(list(O_TEST_DATASET.iterdir()))\n",
    "        ],\n",
    "        \"label_id\": all_preds.argmax(-1),\n",
    "    }\n",
    ")\n",
    "subm.to_csv(\"submissoins/subm1.csv\", index=False, sep=\"\\t\")\n"
   ]
  }
 ],
 "metadata": {
  "kernelspec": {
   "display_name": "env",
   "language": "python",
   "name": "python3"
  },
  "language_info": {
   "codemirror_mode": {
    "name": "ipython",
    "version": 3
   },
   "file_extension": ".py",
   "mimetype": "text/x-python",
   "name": "python",
   "nbconvert_exporter": "python",
   "pygments_lexer": "ipython3",
   "version": "3.9.15"
  },
  "orig_nbformat": 4,
  "vscode": {
   "interpreter": {
    "hash": "6f9285ea335aa6ad6901a41d37b03ab44602c19922b969a93c46c068fbeb770c"
   }
  }
 },
 "nbformat": 4,
 "nbformat_minor": 2
}
