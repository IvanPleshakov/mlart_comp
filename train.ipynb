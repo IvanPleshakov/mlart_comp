{
 "cells": [
  {
   "attachments": {},
   "cell_type": "markdown",
   "metadata": {},
   "source": [
    "## Imorts and Config"
   ]
  },
  {
   "cell_type": "code",
   "execution_count": null,
   "metadata": {},
   "outputs": [],
   "source": [
    "from pathlib import Path\n",
    "\n",
    "import albumentations as A\n",
    "import madgrad\n",
    "import numpy as np\n",
    "import pandas as pd\n",
    "import timm\n",
    "from albumentations.pytorch import ToTensorV2\n",
    "from fastai.vision.all import *\n",
    "from sklearn.model_selection import train_test_split\n"
   ]
  },
  {
   "cell_type": "code",
   "execution_count": null,
   "metadata": {},
   "outputs": [],
   "source": [
    "TRAIN_CSV = Path('train.csv')\n",
    "R_TRAIN_DATASET = Path('./data/train_256/')\n",
    "R_TEST_DATASET = Path('./data/test_256/')\n",
    "O_TEST_DATASET = Path(\"./data/test/\")\n",
    "BEST_SUBMISSION = Path('./submissoins/subm_best6.csv')\n",
    "SAVE_MODELS_DIR = Path('./models/')\n",
    "USE_TEST_IN_TRAIN = True\n",
    "TTA_PREDICT = False"
   ]
  },
  {
   "cell_type": "code",
   "execution_count": null,
   "metadata": {},
   "outputs": [],
   "source": [
    "SEED = 42\n",
    "torch.backends.cudnn.deterministic = True\n",
    "torch.backends.cudnn.benchmark     = False\n",
    "random.seed(SEED)\n",
    "np.random.seed(SEED)\n",
    "torch.manual_seed(SEED)\n",
    "torch.cuda.manual_seed_all(SEED)"
   ]
  },
  {
   "attachments": {},
   "cell_type": "markdown",
   "metadata": {},
   "source": [
    "## Data Preparation"
   ]
  },
  {
   "cell_type": "code",
   "execution_count": null,
   "metadata": {},
   "outputs": [],
   "source": [
    "df = pd.read_csv(TRAIN_CSV, delimiter=\"\\t\")\n",
    "\n",
    "df.image_name = df.image_name.apply(lambda x: x.split(\".\")[0] + \".jpg\")\n",
    "df[\"path\"] = df[\"image_name\"].apply(lambda x: R_TRAIN_DATASET / x)\n",
    "\n",
    "df = df.sample(frac=1, random_state=SEED).reset_index(drop=True)\n",
    "X_train, X_val = train_test_split(\n",
    "    np.arange(len(df)), test_size=0.2, stratify=df[\"label_id\"], random_state=SEED\n",
    ")\n",
    "df[\"isVal\"] = False\n",
    "df.loc[X_val, \"isVal\"] = True\n",
    "\n",
    "if USE_TEST_IN_TRAIN:\n",
    "    df_test = pd.read_csv(BEST_SUBMISSION, delimiter=\"\\t\")\n",
    "    df_test.image_name = df_test.image_name.apply(lambda x: x.split(\".\")[0] + \".jpg\")\n",
    "    df_test[\"path\"] = df_test[\"image_name\"].apply(lambda x: R_TEST_DATASET / x)\n",
    "    df_test[\"isVal\"] = False\n",
    "\n",
    "    df_full = pd.concat([df, df_test])\n",
    "    df = df_full.sample(frac=1, random_state=SEED).reset_index(drop=True)\n"
   ]
  },
  {
   "cell_type": "code",
   "execution_count": null,
   "metadata": {},
   "outputs": [],
   "source": [
    "class AlbumentationsTransform(DisplayedTransform):\n",
    "    split_idx,order=0,2\n",
    "    def __init__(self, train_aug): store_attr()\n",
    "    \n",
    "    def encodes(self, img: PILImage):\n",
    "        aug_img = self.train_aug(image=np.array(img))['image']\n",
    "        return PILImage.create(aug_img)\n",
    "\n",
    "def A_augs():\n",
    "    return A.Compose(\n",
    "        [\n",
    "            A.ColorJitter(hue=0.1, p=0.5),\n",
    "            A.RGBShift(r_shift_limit=20, g_shift_limit=20, b_shift_limit=20, p=0.5),\n",
    "            A.GaussNoise(var_limit=(50.0, 150.0), p=0.6),\n",
    "            A.CoarseDropout(p=0.5),\n",
    "            A.PixelDropout(0.005, p=0.5),\n",
    "            A.Downscale(scale_min=0.75, scale_max=0.9, interpolation=4, p=0.2),\n",
    "            A.JpegCompression(quality_lower=45, quality_upper=85, p=0.3),\n",
    "        ]\n",
    "    )\n"
   ]
  },
  {
   "cell_type": "code",
   "execution_count": null,
   "metadata": {},
   "outputs": [],
   "source": [
    "memes = DataBlock(blocks=(ImageBlock, CategoryBlock), \n",
    "                    get_x=ColReader('path'),\n",
    "                    get_y=ColReader('label_id'),\n",
    "                    splitter = ColSplitter('isVal'),\n",
    "                    item_tfms = AlbumentationsTransform(A_augs()),\n",
    "                    batch_tfms=[*aug_transforms(mult=0.3, min_scale=1, size=224)]\n",
    "                    )\n",
    "dls = memes.dataloaders(df, bs=32)"
   ]
  },
  {
   "cell_type": "code",
   "execution_count": null,
   "metadata": {},
   "outputs": [],
   "source": [
    "dls.train.show_batch(max_n=18, nrows=2)"
   ]
  },
  {
   "cell_type": "code",
   "execution_count": null,
   "metadata": {},
   "outputs": [],
   "source": [
    "dls.valid.show_batch(max_n=18, nrows=2)"
   ]
  },
  {
   "attachments": {},
   "cell_type": "markdown",
   "metadata": {},
   "source": [
    "## Train Model"
   ]
  },
  {
   "cell_type": "code",
   "execution_count": null,
   "metadata": {},
   "outputs": [],
   "source": [
    "model_save_name = 'hardaugs_v2_swin_large_patch4_window7_224_in22k_mixedtrain_qhadam.pkl'\n",
    "learn = vision_learner(\n",
    "    dls,\n",
    "    \"swin_large_patch4_window7_224_in22k\",\n",
    "    pretrained=False,\n",
    "    opt_func=QHAdam,\n",
    "    metrics=[F1Score(average=\"macro\")],\n",
    ")"
   ]
  },
  {
   "cell_type": "code",
   "execution_count": null,
   "metadata": {},
   "outputs": [],
   "source": [
    "lr = learn.lr_find().valley\n",
    "print(lr)"
   ]
  },
  {
   "cell_type": "code",
   "execution_count": null,
   "metadata": {},
   "outputs": [],
   "source": [
    "filename = \"model\"\n",
    "learn.fine_tune(\n",
    "    10,\n",
    "    1e-3,\n",
    "    freeze_epochs=1,\n",
    "    cbs=[\n",
    "        SaveModelCallback(monitor=\"f1_score\", fname=filename, at_end=True),\n",
    "        ],\n",
    ")\n"
   ]
  },
  {
   "cell_type": "code",
   "execution_count": null,
   "metadata": {},
   "outputs": [],
   "source": [
    "learn.export(SAVE_MODELS_DIR / model_save_name)"
   ]
  },
  {
   "attachments": {},
   "cell_type": "markdown",
   "metadata": {},
   "source": [
    "## Submittion"
   ]
  },
  {
   "cell_type": "code",
   "execution_count": null,
   "metadata": {},
   "outputs": [],
   "source": [
    "test_files = [str(path) for path in sorted(list(R_TEST_DATASET.iterdir()))]\n",
    "test_dl = learn.dls.test_dl(test_files)\n",
    "if not TTA_PREDICT:\n",
    "    preds, _ = learn.get_preds(dl=test_dl) \n",
    "else:\n",
    "    preds, _  = learn.tta(dl=test_dl, beta=0.3, n=7)"
   ]
  },
  {
   "cell_type": "code",
   "execution_count": null,
   "metadata": {},
   "outputs": [],
   "source": [
    "subm = pd.DataFrame(\n",
    "    {\n",
    "        \"image_name\": [str(path.name) for path in sorted(list(O_TEST_DATASET.iterdir()))],\n",
    "        \"label_id\": preds.argmax(-1),\n",
    "    }\n",
    ")\n",
    "subm.to_csv('submissoins/subm1.csv', index=False, sep='\\t')"
   ]
  }
 ],
 "metadata": {
  "kernelspec": {
   "display_name": "env",
   "language": "python",
   "name": "python3"
  },
  "language_info": {
   "codemirror_mode": {
    "name": "ipython",
    "version": 3
   },
   "file_extension": ".py",
   "mimetype": "text/x-python",
   "name": "python",
   "nbconvert_exporter": "python",
   "pygments_lexer": "ipython3",
   "version": "3.9.15 (main, Nov 24 2022, 14:31:59) \n[GCC 11.2.0]"
  },
  "orig_nbformat": 4,
  "vscode": {
   "interpreter": {
    "hash": "6f9285ea335aa6ad6901a41d37b03ab44602c19922b969a93c46c068fbeb770c"
   }
  }
 },
 "nbformat": 4,
 "nbformat_minor": 2
}
